{
  "nbformat": 4,
  "nbformat_minor": 0,
  "metadata": {
    "colab": {
      "provenance": [],
      "authorship_tag": "ABX9TyNOLAcRZrW3aOGe1TLsmflH",
      "include_colab_link": true
    },
    "kernelspec": {
      "name": "python3",
      "display_name": "Python 3"
    },
    "language_info": {
      "name": "python"
    }
  },
  "cells": [
    {
      "cell_type": "markdown",
      "metadata": {
        "id": "view-in-github",
        "colab_type": "text"
      },
      "source": [
        "<a href=\"https://colab.research.google.com/github/nafis-neehal/LLM_Projects/blob/main/RAG_VectorDB/RAG_LangChain_ChromaDB_Harry_Potter_QA.ipynb\" target=\"_parent\"><img src=\"https://colab.research.google.com/assets/colab-badge.svg\" alt=\"Open In Colab\"/></a>"
      ]
    },
    {
      "cell_type": "code",
      "execution_count": null,
      "metadata": {
        "id": "0xFpP3MOdNgr"
      },
      "outputs": [],
      "source": [
        "!pip install --quiet -r requirements.txt"
      ]
    },
    {
      "cell_type": "code",
      "source": [
        "from langchain.document_loaders import TextLoader, DirectoryLoader\n",
        "from langchain.text_splitter import RecursiveCharacterTextSplitter\n",
        "from langchain.vectorstores import Chroma\n",
        "from langchain.embeddings import OpenAIEmbeddings\n",
        "from langchain.chains import RetrievalQA\n",
        "from langchain.llms import OpenAI\n",
        "from langchain.chains import LLMChain\n",
        "from langchain.prompts import PromptTemplate\n",
        "from langchain.llms import HuggingFaceEndpoint\n",
        "\n",
        "import os\n",
        "\n",
        "from google.colab import userdata"
      ],
      "metadata": {
        "id": "5DPj0sjkn_HY"
      },
      "execution_count": 1,
      "outputs": []
    },
    {
      "cell_type": "code",
      "source": [
        "os.environ[\"OPENAI_API_KEY\"] = userdata.get('OPENAI_KEY_BS1')\n",
        "os.environ[\"HUGGINGFACEHUB_API_TOKEN\"] = userdata.get('HF_TOKEN')"
      ],
      "metadata": {
        "id": "a8lFOGGjYj5u"
      },
      "execution_count": 2,
      "outputs": []
    },
    {
      "cell_type": "markdown",
      "source": [
        "# Step 1: Load the Data"
      ],
      "metadata": {
        "id": "uK1twP4mrrd6"
      }
    },
    {
      "cell_type": "code",
      "source": [
        "loader = DirectoryLoader('./data/', glob='./*.txt', loader_cls=TextLoader)\n",
        "documents = loader.load()\n",
        "len(documents)"
      ],
      "metadata": {
        "colab": {
          "base_uri": "https://localhost:8080/"
        },
        "id": "uxpyKAPPp1ZX",
        "outputId": "5b4d9971-9e22-4b5d-ad04-2a759a731fd6"
      },
      "execution_count": 3,
      "outputs": [
        {
          "output_type": "execute_result",
          "data": {
            "text/plain": [
              "7"
            ]
          },
          "metadata": {},
          "execution_count": 3
        }
      ]
    },
    {
      "cell_type": "markdown",
      "source": [
        "# Step 2: Split it into chunks"
      ],
      "metadata": {
        "id": "hlEIuioJrxof"
      }
    },
    {
      "cell_type": "code",
      "source": [
        "#splitting the text\n",
        "text_splitter = RecursiveCharacterTextSplitter(chunk_size=1000, chunk_overlap=100)\n",
        "texts = text_splitter.split_documents(documents)\n",
        "len(texts)"
      ],
      "metadata": {
        "colab": {
          "base_uri": "https://localhost:8080/"
        },
        "id": "BTujQ5KIq8by",
        "outputId": "eaaec65f-8752-4b3c-a613-0b4098cac5f1"
      },
      "execution_count": 4,
      "outputs": [
        {
          "output_type": "execute_result",
          "data": {
            "text/plain": [
              "7643"
            ]
          },
          "metadata": {},
          "execution_count": 4
        }
      ]
    },
    {
      "cell_type": "markdown",
      "source": [
        "# Step 3: Create the DB: Using Chroma - Local DB"
      ],
      "metadata": {
        "id": "xBXqLah0r5Uq"
      }
    },
    {
      "cell_type": "code",
      "source": [
        "#to create anew\n",
        "persist_directory = './db'\n",
        "embeddings = OpenAIEmbeddings()\n",
        "\n",
        "vectordb = Chroma.from_documents(documents = texts,\n",
        "                                 embedding = embeddings,\n",
        "                                 persist_directory = persist_directory)"
      ],
      "metadata": {
        "colab": {
          "base_uri": "https://localhost:8080/"
        },
        "id": "nE8EmdcWsICt",
        "outputId": "180d6857-99a5-4aee-c9f9-b0fda4c62763"
      },
      "execution_count": null,
      "outputs": [
        {
          "output_type": "stream",
          "name": "stderr",
          "text": [
            "/usr/local/lib/python3.10/dist-packages/langchain_core/_api/deprecation.py:117: LangChainDeprecationWarning: The class `langchain_community.embeddings.openai.OpenAIEmbeddings` was deprecated in langchain-community 0.0.9 and will be removed in 0.2.0. An updated version of the class exists in the langchain-openai package and should be used instead. To use it run `pip install -U langchain-openai` and import as `from langchain_openai import OpenAIEmbeddings`.\n",
            "  warn_deprecated(\n"
          ]
        }
      ]
    },
    {
      "cell_type": "code",
      "source": [
        "# to use existing\n",
        "persist_directory = './db'\n",
        "embeddings = OpenAIEmbeddings()\n",
        "vectordb = Chroma(persist_directory=persist_directory, embedding_function=embeddings)"
      ],
      "metadata": {
        "colab": {
          "base_uri": "https://localhost:8080/"
        },
        "id": "cpZk20yPd9SY",
        "outputId": "0f287136-ee72-4d83-9ac7-b81c73a09d25"
      },
      "execution_count": 6,
      "outputs": [
        {
          "output_type": "stream",
          "name": "stderr",
          "text": [
            "/usr/local/lib/python3.10/dist-packages/langchain_core/_api/deprecation.py:117: LangChainDeprecationWarning: The class `langchain_community.embeddings.openai.OpenAIEmbeddings` was deprecated in langchain-community 0.0.9 and will be removed in 0.2.0. An updated version of the class exists in the langchain-openai package and should be used instead. To use it run `pip install -U langchain-openai` and import as `from langchain_openai import OpenAIEmbeddings`.\n",
            "  warn_deprecated(\n"
          ]
        }
      ]
    },
    {
      "cell_type": "markdown",
      "source": [
        "# Step 4: Make retriever from VectorDB\n",
        "Source: https://python.langchain.com/docs/modules/data_connection/retrievers/vectorstore"
      ],
      "metadata": {
        "id": "QRp4oZL5v-J5"
      }
    },
    {
      "cell_type": "code",
      "source": [
        "retriever = vectordb.as_retriever(search_kwargs={\"k\":10})"
      ],
      "metadata": {
        "colab": {
          "base_uri": "https://localhost:8080/"
        },
        "id": "kQdji1kLvi9s",
        "outputId": "eb362111-5bef-4925-dbb1-f9a83e174c3c"
      },
      "execution_count": 42,
      "outputs": [
        {
          "output_type": "execute_result",
          "data": {
            "text/plain": [
              "10"
            ]
          },
          "metadata": {},
          "execution_count": 42
        }
      ]
    },
    {
      "cell_type": "code",
      "source": [
        "docs = retriever.get_relevant_documents(\"Who was Severus Snape?\")\n",
        "len(docs)\n",
        "docs[0]"
      ],
      "metadata": {
        "colab": {
          "base_uri": "https://localhost:8080/"
        },
        "id": "m5cOHvE4xH-o",
        "outputId": "71989cd8-df02-43ce-f0dd-fdaf8fb63d64"
      },
      "execution_count": 48,
      "outputs": [
        {
          "output_type": "execute_result",
          "data": {
            "text/plain": [
              "Document(page_content='\"Or he might have been sacked!\" said Ron enthusiastically. \"I mean, everyone hates him -\"\\n\\u3000\\u3000\"Or maybe,\" said a very cold voice right behind them, \"he\\'s waiting to hear why you two didn\\'t arrive on the school train.\"\\n\\u3000\\u3000Harry spun around. There, his black robes rippling in a cold breeze, stood Severus Snape. He was a thin man with sallow skin, a hooked nose, and greasy, shoulder-length black hair, and at this moment, he was smiling in a way that told Harry he and Ron were in very deep trouble.\\n\\u3000\\u3000\"Follow me,\" said Snape.\\n\\u3000\\u3000Not daring even to look at each other, Harry and Ron followed Snape up the steps into the vast, echoing entrance hall, which was lit with flaming torches. A delicious smell of food was wafting from the Great Hall, but Snape led them away from the warmth and light, down a narrow stone staircase that led into the dungeons.\\n\\u3000\\u3000\"In!\" he said, opening a door halfway down the cold passageway and pointing.', metadata={'source': 'data/Harry Potter and the Chamber of Secrets.txt'})"
            ]
          },
          "metadata": {},
          "execution_count": 48
        }
      ]
    },
    {
      "cell_type": "markdown",
      "source": [
        "# Step 5: Add this to Context of LLM - Make a Chain"
      ],
      "metadata": {
        "id": "xOLgWBOkxXly"
      }
    },
    {
      "cell_type": "code",
      "source": [
        "template = \"\"\"\n",
        "Instruction: Answer to the best of your ability the question based on the context below.\n",
        "If the question can't be answered using the information provided answer with \"I don't know\".\n",
        "\n",
        "Context: {context}\n",
        "\n",
        "Question: {query}\n",
        "\n",
        "Answer: \"\"\"\n",
        "\n",
        "prompt_template = PromptTemplate(\n",
        "    input_variables=[\"context\",\"query\"],\n",
        "    template=template\n",
        ")\n",
        "Context = \"Answer the question based on your prior knowledge about Harry Potter books.\"\n",
        "Question = \"Who was Sirius Black?\""
      ],
      "metadata": {
        "id": "00QXi8DgzGpZ"
      },
      "execution_count": 44,
      "outputs": []
    },
    {
      "cell_type": "markdown",
      "source": [
        "### 1. Evaluation of GPT 3.5 without and with RAG - OpenAI API"
      ],
      "metadata": {
        "id": "w2o61f1iV6Az"
      }
    },
    {
      "cell_type": "code",
      "source": [
        "def process_llm_response(llm_response):\n",
        "    print(llm_response['result'])\n",
        "    print('\\n\\nSources:')\n",
        "    for source in llm_response['source_documents']:\n",
        "        print(source.metadata['source'])"
      ],
      "metadata": {
        "id": "YCnq_ihQWTis"
      },
      "execution_count": 49,
      "outputs": []
    },
    {
      "cell_type": "code",
      "source": [
        "llm = OpenAI(model_name=\"gpt-3.5-turbo-instruct\")\n",
        "chain = LLMChain(llm=llm, prompt=prompt_template)\n",
        "input = {\"context\":Context, \"query\":Question}\n",
        "chain.run(input)"
      ],
      "metadata": {
        "colab": {
          "base_uri": "https://localhost:8080/",
          "height": 54
        },
        "id": "hrXThcGElFG8",
        "outputId": "7a0a42e2-2b7b-49a8-8acb-2634cbc8d36c"
      },
      "execution_count": 50,
      "outputs": [
        {
          "output_type": "execute_result",
          "data": {
            "text/plain": [
              "\" Sirius Black was a character in the Harry Potter books. He was the godfather of Harry Potter and a member of the Order of the Phoenix. He was also a convicted criminal and the brother of Harry's mother, Lily Potter.\""
            ],
            "application/vnd.google.colaboratory.intrinsic+json": {
              "type": "string"
            }
          },
          "metadata": {},
          "execution_count": 50
        }
      ]
    },
    {
      "cell_type": "code",
      "source": [
        "qa_chain = RetrievalQA.from_chain_type(llm=OpenAI(model_name=\"gpt-3.5-turbo-instruct\"),\n",
        "                                     chain_type=\"stuff\",\n",
        "                                     retriever=retriever,\n",
        "                                     return_source_documents=True)\n"
      ],
      "metadata": {
        "id": "5AYfiPBSxXBW"
      },
      "execution_count": 51,
      "outputs": []
    },
    {
      "cell_type": "code",
      "source": [
        "query = \"Who was Sirius Black?\"\n",
        "llm_response = qa_chain({\"query\": query})\n",
        "process_llm_response(llm_response)"
      ],
      "metadata": {
        "colab": {
          "base_uri": "https://localhost:8080/"
        },
        "id": "Q4faotGTW2-5",
        "outputId": "d9cac97e-4340-4925-a00b-505eec111c94"
      },
      "execution_count": 52,
      "outputs": [
        {
          "output_type": "stream",
          "name": "stdout",
          "text": [
            " Sirius Black was a wizard who had been believed guilty of mass murder for fourteen years, but new evidence had recently come to light that suggested he may not have committed the crimes. He had escaped from Azkaban, the wizard jail, and was being hunted by the Ministry of Magic. He was also Harry Potter's godfather and the last of the Black family line. Additionally, he was feared by many as he was believed to be Lord Voldemort's right-hand man. However, it was later revealed that he was actually innocent and the murders were committed by his friend, Wormtail.\n",
            "\n",
            "\n",
            "Sources:\n",
            "data/Harry Potter and the Order of the Phoenix.txt\n",
            "data/Harry Potter and the Order of the Phoenix.txt\n",
            "data/Harry Potter and the Prisoner of Azkaban .txt\n",
            "data/Harry Potter and the Prisoner of Azkaban .txt\n",
            "data/Harry Potter and The Half-Blood Prince.txt\n",
            "data/Harry Potter and The Half-Blood Prince.txt\n",
            "data/Harry Potter and the Prisoner of Azkaban .txt\n",
            "data/Harry Potter and the Prisoner of Azkaban .txt\n",
            "data/Harry Potter and the Goblet of Fire.txt\n",
            "data/Harry Potter and the Goblet of Fire.txt\n"
          ]
        }
      ]
    },
    {
      "cell_type": "markdown",
      "source": [
        "### 2. Evaluation of Open-Source models without and with RAG - HuggingFace API"
      ],
      "metadata": {
        "id": "iSoqI-e6ZE10"
      }
    },
    {
      "cell_type": "code",
      "source": [
        "repo_id = \"mistralai/Mistral-7B-Instruct-v0.2\"\n",
        "\n",
        "llm = HuggingFaceEndpoint(\n",
        "    repo_id=repo_id, max_length=128, temperature=0.1, max_new_tokens=250,\n",
        "    return_full_text=False)\n",
        "llm_chain = LLMChain(prompt=prompt_template, llm=llm)\n",
        "print(llm_chain.run(input))"
      ],
      "metadata": {
        "colab": {
          "base_uri": "https://localhost:8080/"
        },
        "id": "ryPI1xv3ZR04",
        "outputId": "20a072c1-fa6c-4b16-9b39-4cae44ff2e5a"
      },
      "execution_count": 60,
      "outputs": [
        {
          "output_type": "stream",
          "name": "stderr",
          "text": [
            "WARNING:langchain_community.llms.huggingface_endpoint:WARNING! max_length is not default parameter.\n",
            "                    max_length was transferred to model_kwargs.\n",
            "                    Please make sure that max_length is what you intended.\n"
          ]
        },
        {
          "output_type": "stream",
          "name": "stdout",
          "text": [
            "Token will not been saved to git credential helper. Pass `add_to_git_credential=True` if you want to set the git credential as well.\n",
            "Token is valid (permission: read).\n",
            "Your token has been saved to /root/.cache/huggingface/token\n",
            "Login successful\n",
            " Sirius Black was a character in the Harry Potter series, portrayed as a friend of Harry's godfather, Sir James Potter, and his godfather's best friend, Remus Lupin. Sirius was also the godfather of Harry Potter. He was a member of the Order of the Phoenix and was known as \"the Prisoner of Azkaban\" because he was wrongly accused of murdering thirteen people and was sent to Azkaban prison. Sirius was actually innocent, and the real killer was Peter Pettigrew, who had betrayed the Potters and Sirius to Lord Voldemort. Sirius was a large, black Ankou dog-like creature when he transformed into a werewolf during the full moon. He was eventually killed by the Death Eater, Bellatrix Lestrange, during the Battle of the Department of Mysteries.\n"
          ]
        }
      ]
    },
    {
      "cell_type": "code",
      "source": [
        "qa_chain = RetrievalQA.from_chain_type(llm=llm,\n",
        "                                     chain_type=\"stuff\",\n",
        "                                     retriever=retriever,\n",
        "                                     return_source_documents=True)\n",
        "query = \"Who was Sirius Black?\"\n",
        "llm_response = qa_chain({\"query\": query})\n",
        "process_llm_response(llm_response)"
      ],
      "metadata": {
        "colab": {
          "base_uri": "https://localhost:8080/"
        },
        "id": "oZ2B7qLUef84",
        "outputId": "ae52dfe5-9ce1-4374-be69-0cbfe92006ef"
      },
      "execution_count": 61,
      "outputs": [
        {
          "output_type": "stream",
          "name": "stdout",
          "text": [
            " Sirius Black was a wizard who had been wrongly imprisoned in Azkaban for fourteen years for the mass murder of thirteen Muggles and one wizard. He was the godfather of Harry Potter and a close friend of James Potter and Remus Lupin. He was believed to have escaped from Azkaban two years ago and was currently being hunted by the Ministry of Magic. However, new evidence has come to light suggesting that Sirius may not have committed the crimes for which he was imprisoned and that he may not have even been present at the killings.\n",
            "\n",
            "\n",
            "Sources:\n",
            "data/Harry Potter and the Order of the Phoenix.txt\n",
            "data/Harry Potter and the Order of the Phoenix.txt\n",
            "data/Harry Potter and the Prisoner of Azkaban .txt\n",
            "data/Harry Potter and the Prisoner of Azkaban .txt\n",
            "data/Harry Potter and The Half-Blood Prince.txt\n",
            "data/Harry Potter and The Half-Blood Prince.txt\n",
            "data/Harry Potter and the Prisoner of Azkaban .txt\n",
            "data/Harry Potter and the Prisoner of Azkaban .txt\n",
            "data/Harry Potter and the Goblet of Fire.txt\n",
            "data/Harry Potter and the Goblet of Fire.txt\n"
          ]
        }
      ]
    }
  ]
}