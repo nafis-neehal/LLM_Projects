{
  "metadata": {
    "kernelspec": {
      "language": "python",
      "display_name": "Python 3",
      "name": "python3"
    },
    "language_info": {
      "name": "python",
      "version": "3.10.12",
      "mimetype": "text/x-python",
      "codemirror_mode": {
        "name": "ipython",
        "version": 3
      },
      "pygments_lexer": "ipython3",
      "nbconvert_exporter": "python",
      "file_extension": ".py"
    },
    "kaggle": {
      "accelerator": "gpu",
      "dataSources": [
        {
          "sourceId": 3017794,
          "sourceType": "datasetVersion",
          "datasetId": 1848343
        }
      ],
      "dockerImageVersionId": 30635,
      "isInternetEnabled": true,
      "language": "python",
      "sourceType": "notebook",
      "isGpuEnabled": true
    },
    "colab": {
      "name": "Chandler-Bot-DataProcessing",
      "provenance": [],
      "include_colab_link": true
    }
  },
  "nbformat_minor": 0,
  "nbformat": 4,
  "cells": [
    {
      "cell_type": "markdown",
      "metadata": {
        "id": "view-in-github",
        "colab_type": "text"
      },
      "source": [
        "<a href=\"https://colab.research.google.com/github/nafis-neehal/llm_projects/blob/main/Chandler-Bot/Chandler_Bot_DataProcessing.ipynb\" target=\"_parent\"><img src=\"https://colab.research.google.com/assets/colab-badge.svg\" alt=\"Open In Colab\"/></a>"
      ]
    },
    {
      "source": [
        "\n",
        "# IMPORTANT: RUN THIS CELL IN ORDER TO IMPORT YOUR KAGGLE DATA SOURCES\n",
        "# TO THE CORRECT LOCATION (/kaggle/input) IN YOUR NOTEBOOK,\n",
        "# THEN FEEL FREE TO DELETE THIS CELL.\n",
        "# NOTE: THIS NOTEBOOK ENVIRONMENT DIFFERS FROM KAGGLE'S PYTHON\n",
        "# ENVIRONMENT SO THERE MAY BE MISSING LIBRARIES USED BY YOUR\n",
        "# NOTEBOOK.\n",
        "\n",
        "import os\n",
        "import sys\n",
        "from tempfile import NamedTemporaryFile\n",
        "from urllib.request import urlopen\n",
        "from urllib.parse import unquote, urlparse\n",
        "from urllib.error import HTTPError\n",
        "from zipfile import ZipFile\n",
        "import tarfile\n",
        "import shutil\n",
        "\n",
        "CHUNK_SIZE = 40960\n",
        "DATA_SOURCE_MAPPING = 'friends-netflix-script-data:https%3A%2F%2Fstorage.googleapis.com%2Fkaggle-data-sets%2F1848343%2F3017794%2Fbundle%2Farchive.zip%3FX-Goog-Algorithm%3DGOOG4-RSA-SHA256%26X-Goog-Credential%3Dgcp-kaggle-com%2540kaggle-161607.iam.gserviceaccount.com%252F20240204%252Fauto%252Fstorage%252Fgoog4_request%26X-Goog-Date%3D20240204T225845Z%26X-Goog-Expires%3D259200%26X-Goog-SignedHeaders%3Dhost%26X-Goog-Signature%3D9c1c57a030280e623e8bd7c76fa20fb627be6ed8f9effdf70582ae6226ae9ecf29450199fb2b097426f5b880b4db467543e6e07d34a67e7450baccf9c7d530e158d413d6bd5b4dac01dc8ad4de4b52cae7928a20dcf8076a54ad5db78eacb1eca82330d5bf7d7b5fbe496e2939ddb7dd1bab133be350b6e3bbf278eb208078c9a8f45b50acf57cef580e9820232f024e7f9ffbfa13b7afab12433e39f2682590622fed6d493f2df427f2f4b4f64b773d49403da9666ac113a484a5557daee11a2779f33d8ce93a262cd2f0e6294692f8c4867682a3c1a56b9e4ef872b21e41a891056dc3d9511599412e9bb8e16b4ed5683c6eaa92883071232abff1b610c204'\n",
        "\n",
        "KAGGLE_INPUT_PATH='/kaggle/input'\n",
        "KAGGLE_WORKING_PATH='/kaggle/working'\n",
        "KAGGLE_SYMLINK='kaggle'\n",
        "\n",
        "!umount /kaggle/input/ 2> /dev/null\n",
        "shutil.rmtree('/kaggle/input', ignore_errors=True)\n",
        "os.makedirs(KAGGLE_INPUT_PATH, 0o777, exist_ok=True)\n",
        "os.makedirs(KAGGLE_WORKING_PATH, 0o777, exist_ok=True)\n",
        "\n",
        "try:\n",
        "  os.symlink(KAGGLE_INPUT_PATH, os.path.join(\"..\", 'input'), target_is_directory=True)\n",
        "except FileExistsError:\n",
        "  pass\n",
        "try:\n",
        "  os.symlink(KAGGLE_WORKING_PATH, os.path.join(\"..\", 'working'), target_is_directory=True)\n",
        "except FileExistsError:\n",
        "  pass\n",
        "\n",
        "for data_source_mapping in DATA_SOURCE_MAPPING.split(','):\n",
        "    directory, download_url_encoded = data_source_mapping.split(':')\n",
        "    download_url = unquote(download_url_encoded)\n",
        "    filename = urlparse(download_url).path\n",
        "    destination_path = os.path.join(KAGGLE_INPUT_PATH, directory)\n",
        "    try:\n",
        "        with urlopen(download_url) as fileres, NamedTemporaryFile() as tfile:\n",
        "            total_length = fileres.headers['content-length']\n",
        "            print(f'Downloading {directory}, {total_length} bytes compressed')\n",
        "            dl = 0\n",
        "            data = fileres.read(CHUNK_SIZE)\n",
        "            while len(data) > 0:\n",
        "                dl += len(data)\n",
        "                tfile.write(data)\n",
        "                done = int(50 * dl / int(total_length))\n",
        "                sys.stdout.write(f\"\\r[{'=' * done}{' ' * (50-done)}] {dl} bytes downloaded\")\n",
        "                sys.stdout.flush()\n",
        "                data = fileres.read(CHUNK_SIZE)\n",
        "            if filename.endswith('.zip'):\n",
        "              with ZipFile(tfile) as zfile:\n",
        "                zfile.extractall(destination_path)\n",
        "            else:\n",
        "              with tarfile.open(tfile.name) as tarfile:\n",
        "                tarfile.extractall(destination_path)\n",
        "            print(f'\\nDownloaded and uncompressed: {directory}')\n",
        "    except HTTPError as e:\n",
        "        print(f'Failed to load (likely expired) {download_url} to path {destination_path}')\n",
        "        continue\n",
        "    except OSError as e:\n",
        "        print(f'Failed to load {download_url} to path {destination_path}')\n",
        "        continue\n",
        "\n",
        "print('Data source import complete.')\n"
      ],
      "metadata": {
        "id": "WBuLw6ebWHwq"
      },
      "cell_type": "code",
      "outputs": [],
      "execution_count": null
    },
    {
      "cell_type": "code",
      "source": [
        "# This Python 3 environment comes with many helpful analytics libraries installed\n",
        "# It is defined by the kaggle/python Docker image: https://github.com/kaggle/docker-python\n",
        "# For example, here's several helpful packages to load\n",
        "\n",
        "import numpy as np # linear algebra\n",
        "import pandas as pd # data processing, CSV file I/O (e.g. pd.read_csv)\n",
        "\n",
        "# Input data files are available in the read-only \"../input/\" directory\n",
        "# For example, running this (by clicking run or pressing Shift+Enter) will list all files under the input directory\n",
        "\n",
        "import os\n",
        "for dirname, _, filenames in os.walk('/kaggle/input'):\n",
        "    for filename in filenames:\n",
        "        print(os.path.join(dirname, filename))\n",
        "\n",
        "# You can write up to 20GB to the current directory (/kaggle/working/) that gets preserved as output when you create a version using \"Save & Run All\"\n",
        "# You can also write temporary files to /kaggle/temp/, but they won't be saved outside of the current session"
      ],
      "metadata": {
        "_uuid": "8f2839f25d086af736a60e9eeb907d3b93b6e0e5",
        "_cell_guid": "b1076dfc-b9ad-4769-8c92-a6c4dae69d19",
        "execution": {
          "iopub.status.busy": "2024-02-03T09:19:59.895387Z",
          "iopub.execute_input": "2024-02-03T09:19:59.895755Z",
          "iopub.status.idle": "2024-02-03T09:20:00.248194Z",
          "shell.execute_reply.started": "2024-02-03T09:19:59.895723Z",
          "shell.execute_reply": "2024-02-03T09:20:00.247268Z"
        },
        "trusted": true,
        "id": "nCPzVv0-WHwr",
        "outputId": "7ada51af-4f8b-4a26-cdda-1158da48ffb1"
      },
      "execution_count": null,
      "outputs": [
        {
          "name": "stdout",
          "text": "/kaggle/input/friends-netflix-script-data/Friends.csv\n",
          "output_type": "stream"
        }
      ]
    },
    {
      "cell_type": "code",
      "source": [
        "data = pd.read_csv(\"/kaggle/input/friends-netflix-script-data/Friends.csv\")"
      ],
      "metadata": {
        "execution": {
          "iopub.status.busy": "2024-02-03T09:20:00.249822Z",
          "iopub.execute_input": "2024-02-03T09:20:00.250221Z",
          "iopub.status.idle": "2024-02-03T09:20:00.563402Z",
          "shell.execute_reply.started": "2024-02-03T09:20:00.250194Z",
          "shell.execute_reply": "2024-02-03T09:20:00.562628Z"
        },
        "trusted": true,
        "id": "rIYAYmHbWHws"
      },
      "execution_count": null,
      "outputs": []
    },
    {
      "cell_type": "markdown",
      "source": [
        "# **Preprocesing**\n",
        "\n",
        "1. Convered all speaker names to lower case\n",
        "2. Replaced NaN speaker names with empty string \"\""
      ],
      "metadata": {
        "id": "BzPHIreNWHws"
      }
    },
    {
      "cell_type": "code",
      "source": [
        "data.Speaker = data.Speaker.str.lower()\n",
        "data = data.fillna('')"
      ],
      "metadata": {
        "execution": {
          "iopub.status.busy": "2024-02-03T09:20:00.564342Z",
          "iopub.execute_input": "2024-02-03T09:20:00.564584Z",
          "iopub.status.idle": "2024-02-03T09:20:00.63562Z",
          "shell.execute_reply.started": "2024-02-03T09:20:00.564563Z",
          "shell.execute_reply": "2024-02-03T09:20:00.634939Z"
        },
        "trusted": true,
        "id": "E8jPsmW4WHws"
      },
      "execution_count": null,
      "outputs": []
    },
    {
      "cell_type": "code",
      "source": [
        "data"
      ],
      "metadata": {
        "execution": {
          "iopub.status.busy": "2024-02-03T09:20:00.636553Z",
          "iopub.execute_input": "2024-02-03T09:20:00.636807Z",
          "iopub.status.idle": "2024-02-03T09:20:00.654249Z",
          "shell.execute_reply.started": "2024-02-03T09:20:00.636783Z",
          "shell.execute_reply": "2024-02-03T09:20:00.6534Z"
        },
        "trusted": true,
        "id": "SbcUG6nuWHwt",
        "outputId": "ceb2ecb1-82b0-4198-879a-ede8b1fa7d3b"
      },
      "execution_count": null,
      "outputs": [
        {
          "execution_count": 5,
          "output_type": "execute_result",
          "data": {
            "text/plain": "                                                    Text  Speaker  \\\n0      Originally written by Marta Kauffman and David...            \n1                              Transcribed by guineapig.            \n2       CENTRAL PERK. (ALL PRESENT EXCEPT RACHEL AND ...  scene 1   \n3       There's nothing to tell! He's just some guy I...   monica   \n4       C'mon, you're going out with the guy! There's...     joey   \n...                                                  ...      ...   \n69969   Then I'm happy too. (They're still hugging - ...     ross   \n69970                                   COMMERCIAL BREAK            \n69971   Estelle's memorial service. Joey is giving a ...   [scene   \n69972   Thank you all for coming. We're here today to...     joey   \n69973                                            THE END            \n\n                                                 Episode     Season     Show  \n0      Episode-01-The One Where Monica Gets a New Roo...  Season-01  Friends  \n1      Episode-01-The One Where Monica Gets a New Roo...  Season-01  Friends  \n2      Episode-01-The One Where Monica Gets a New Roo...  Season-01  Friends  \n3      Episode-01-The One Where Monica Gets a New Roo...  Season-01  Friends  \n4      Episode-01-The One Where Monica Gets a New Roo...  Season-01  Friends  \n...                                                  ...        ...      ...  \n69969              Episode-15-The One Where Estelle Dies  Season-10  Friends  \n69970              Episode-15-The One Where Estelle Dies  Season-10  Friends  \n69971              Episode-15-The One Where Estelle Dies  Season-10  Friends  \n69972              Episode-15-The One Where Estelle Dies  Season-10  Friends  \n69973              Episode-15-The One Where Estelle Dies  Season-10  Friends  \n\n[69974 rows x 5 columns]",
            "text/html": "<div>\n<style scoped>\n    .dataframe tbody tr th:only-of-type {\n        vertical-align: middle;\n    }\n\n    .dataframe tbody tr th {\n        vertical-align: top;\n    }\n\n    .dataframe thead th {\n        text-align: right;\n    }\n</style>\n<table border=\"1\" class=\"dataframe\">\n  <thead>\n    <tr style=\"text-align: right;\">\n      <th></th>\n      <th>Text</th>\n      <th>Speaker</th>\n      <th>Episode</th>\n      <th>Season</th>\n      <th>Show</th>\n    </tr>\n  </thead>\n  <tbody>\n    <tr>\n      <th>0</th>\n      <td>Originally written by Marta Kauffman and David...</td>\n      <td></td>\n      <td>Episode-01-The One Where Monica Gets a New Roo...</td>\n      <td>Season-01</td>\n      <td>Friends</td>\n    </tr>\n    <tr>\n      <th>1</th>\n      <td>Transcribed by guineapig.</td>\n      <td></td>\n      <td>Episode-01-The One Where Monica Gets a New Roo...</td>\n      <td>Season-01</td>\n      <td>Friends</td>\n    </tr>\n    <tr>\n      <th>2</th>\n      <td>CENTRAL PERK. (ALL PRESENT EXCEPT RACHEL AND ...</td>\n      <td>scene 1</td>\n      <td>Episode-01-The One Where Monica Gets a New Roo...</td>\n      <td>Season-01</td>\n      <td>Friends</td>\n    </tr>\n    <tr>\n      <th>3</th>\n      <td>There's nothing to tell! He's just some guy I...</td>\n      <td>monica</td>\n      <td>Episode-01-The One Where Monica Gets a New Roo...</td>\n      <td>Season-01</td>\n      <td>Friends</td>\n    </tr>\n    <tr>\n      <th>4</th>\n      <td>C'mon, you're going out with the guy! There's...</td>\n      <td>joey</td>\n      <td>Episode-01-The One Where Monica Gets a New Roo...</td>\n      <td>Season-01</td>\n      <td>Friends</td>\n    </tr>\n    <tr>\n      <th>...</th>\n      <td>...</td>\n      <td>...</td>\n      <td>...</td>\n      <td>...</td>\n      <td>...</td>\n    </tr>\n    <tr>\n      <th>69969</th>\n      <td>Then I'm happy too. (They're still hugging - ...</td>\n      <td>ross</td>\n      <td>Episode-15-The One Where Estelle Dies</td>\n      <td>Season-10</td>\n      <td>Friends</td>\n    </tr>\n    <tr>\n      <th>69970</th>\n      <td>COMMERCIAL BREAK</td>\n      <td></td>\n      <td>Episode-15-The One Where Estelle Dies</td>\n      <td>Season-10</td>\n      <td>Friends</td>\n    </tr>\n    <tr>\n      <th>69971</th>\n      <td>Estelle's memorial service. Joey is giving a ...</td>\n      <td>[scene</td>\n      <td>Episode-15-The One Where Estelle Dies</td>\n      <td>Season-10</td>\n      <td>Friends</td>\n    </tr>\n    <tr>\n      <th>69972</th>\n      <td>Thank you all for coming. We're here today to...</td>\n      <td>joey</td>\n      <td>Episode-15-The One Where Estelle Dies</td>\n      <td>Season-10</td>\n      <td>Friends</td>\n    </tr>\n    <tr>\n      <th>69973</th>\n      <td>THE END</td>\n      <td></td>\n      <td>Episode-15-The One Where Estelle Dies</td>\n      <td>Season-10</td>\n      <td>Friends</td>\n    </tr>\n  </tbody>\n</table>\n<p>69974 rows × 5 columns</p>\n</div>"
          },
          "metadata": {}
        }
      ]
    },
    {
      "cell_type": "code",
      "source": [
        "chandler_speeches = data[data.Speaker.str.contains(\"chandler\")]\n",
        "chandler_idx = data[data.Speaker.str.contains(\"chandler\")].index\n",
        "prompt_idx = chandler_idx - 1\n",
        "prompt_speeches = data.iloc[prompt_idx]"
      ],
      "metadata": {
        "execution": {
          "iopub.status.busy": "2024-02-03T09:20:00.65648Z",
          "iopub.execute_input": "2024-02-03T09:20:00.656763Z",
          "iopub.status.idle": "2024-02-03T09:20:00.742667Z",
          "shell.execute_reply.started": "2024-02-03T09:20:00.656738Z",
          "shell.execute_reply": "2024-02-03T09:20:00.742022Z"
        },
        "trusted": true,
        "id": "XFjZidixWHwt"
      },
      "execution_count": null,
      "outputs": []
    },
    {
      "cell_type": "code",
      "source": [
        "data_formatted = pd.DataFrame()"
      ],
      "metadata": {
        "execution": {
          "iopub.status.busy": "2024-02-03T09:20:00.743615Z",
          "iopub.execute_input": "2024-02-03T09:20:00.743868Z",
          "iopub.status.idle": "2024-02-03T09:20:00.748392Z",
          "shell.execute_reply.started": "2024-02-03T09:20:00.743844Z",
          "shell.execute_reply": "2024-02-03T09:20:00.747543Z"
        },
        "trusted": true,
        "id": "gbFbItcaWHwt"
      },
      "execution_count": null,
      "outputs": []
    },
    {
      "cell_type": "code",
      "source": [
        "for i in range(prompt_speeches.shape[0]):\n",
        "    instruction = \"Below is a dialog between popular FRIENDS tv series character Chandler and his friends/coactors. Here, some other character says someethin which is used as the prompt and then Chandler responses. Learn how Chandler responses to everyone.\"\n",
        "    string = instruction + \"### Prompt:\" + prompt_speeches.Text.iloc[i] + \"### Chandler:\" + chandler_speeches.Text.iloc[i]\n",
        "    new_data = pd.DataFrame([{\"text\":string}])\n",
        "    data_formatted = pd.concat([data_formatted, new_data], ignore_index=True)\n",
        ""
      ],
      "metadata": {
        "execution": {
          "iopub.status.busy": "2024-02-03T09:20:00.749527Z",
          "iopub.execute_input": "2024-02-03T09:20:00.749783Z",
          "iopub.status.idle": "2024-02-03T09:20:04.985118Z",
          "shell.execute_reply.started": "2024-02-03T09:20:00.74976Z",
          "shell.execute_reply": "2024-02-03T09:20:04.984159Z"
        },
        "trusted": true,
        "id": "Gc80r2klWHwu"
      },
      "execution_count": null,
      "outputs": []
    },
    {
      "cell_type": "code",
      "source": [
        "data_formatted"
      ],
      "metadata": {
        "execution": {
          "iopub.status.busy": "2024-02-03T09:20:04.986285Z",
          "iopub.execute_input": "2024-02-03T09:20:04.98657Z",
          "iopub.status.idle": "2024-02-03T09:20:04.997172Z",
          "shell.execute_reply.started": "2024-02-03T09:20:04.986544Z",
          "shell.execute_reply": "2024-02-03T09:20:04.996319Z"
        },
        "trusted": true,
        "id": "Jxk06oLjWHwu",
        "outputId": "0df640b4-a433-4fca-d736-11722569431d"
      },
      "execution_count": null,
      "outputs": [
        {
          "execution_count": 9,
          "output_type": "execute_result",
          "data": {
            "text/plain": "                                                   text\n0     Below is a dialog between popular FRIENDS tv s...\n1     Below is a dialog between popular FRIENDS tv s...\n2     Below is a dialog between popular FRIENDS tv s...\n3     Below is a dialog between popular FRIENDS tv s...\n4     Below is a dialog between popular FRIENDS tv s...\n...                                                 ...\n8162  Below is a dialog between popular FRIENDS tv s...\n8163  Below is a dialog between popular FRIENDS tv s...\n8164  Below is a dialog between popular FRIENDS tv s...\n8165  Below is a dialog between popular FRIENDS tv s...\n8166  Below is a dialog between popular FRIENDS tv s...\n\n[8167 rows x 1 columns]",
            "text/html": "<div>\n<style scoped>\n    .dataframe tbody tr th:only-of-type {\n        vertical-align: middle;\n    }\n\n    .dataframe tbody tr th {\n        vertical-align: top;\n    }\n\n    .dataframe thead th {\n        text-align: right;\n    }\n</style>\n<table border=\"1\" class=\"dataframe\">\n  <thead>\n    <tr style=\"text-align: right;\">\n      <th></th>\n      <th>text</th>\n    </tr>\n  </thead>\n  <tbody>\n    <tr>\n      <th>0</th>\n      <td>Below is a dialog between popular FRIENDS tv s...</td>\n    </tr>\n    <tr>\n      <th>1</th>\n      <td>Below is a dialog between popular FRIENDS tv s...</td>\n    </tr>\n    <tr>\n      <th>2</th>\n      <td>Below is a dialog between popular FRIENDS tv s...</td>\n    </tr>\n    <tr>\n      <th>3</th>\n      <td>Below is a dialog between popular FRIENDS tv s...</td>\n    </tr>\n    <tr>\n      <th>4</th>\n      <td>Below is a dialog between popular FRIENDS tv s...</td>\n    </tr>\n    <tr>\n      <th>...</th>\n      <td>...</td>\n    </tr>\n    <tr>\n      <th>8162</th>\n      <td>Below is a dialog between popular FRIENDS tv s...</td>\n    </tr>\n    <tr>\n      <th>8163</th>\n      <td>Below is a dialog between popular FRIENDS tv s...</td>\n    </tr>\n    <tr>\n      <th>8164</th>\n      <td>Below is a dialog between popular FRIENDS tv s...</td>\n    </tr>\n    <tr>\n      <th>8165</th>\n      <td>Below is a dialog between popular FRIENDS tv s...</td>\n    </tr>\n    <tr>\n      <th>8166</th>\n      <td>Below is a dialog between popular FRIENDS tv s...</td>\n    </tr>\n  </tbody>\n</table>\n<p>8167 rows × 1 columns</p>\n</div>"
          },
          "metadata": {}
        }
      ]
    },
    {
      "cell_type": "code",
      "source": [
        "data_formatted.to_csv(\"/kaggle/working/Chandler.csv\")"
      ],
      "metadata": {
        "execution": {
          "iopub.status.busy": "2024-02-03T09:20:04.998436Z",
          "iopub.execute_input": "2024-02-03T09:20:04.998767Z",
          "iopub.status.idle": "2024-02-03T09:20:05.188939Z",
          "shell.execute_reply.started": "2024-02-03T09:20:04.998736Z",
          "shell.execute_reply": "2024-02-03T09:20:05.188186Z"
        },
        "trusted": true,
        "id": "_kiX25rxWHwv"
      },
      "execution_count": null,
      "outputs": []
    }
  ]
}